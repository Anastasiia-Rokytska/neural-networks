{
  "cells": [
    {
      "cell_type": "markdown",
      "metadata": {
        "id": "kJ_BbNwA40OU"
      },
      "source": [
        "#Import"
      ]
    },
    {
      "cell_type": "code",
      "execution_count": 15,
      "metadata": {
        "colab": {
          "base_uri": "https://localhost:8080/"
        },
        "id": "hG_uBDEH3bzl",
        "outputId": "36206c08-0edc-4073-b107-6ce73654abed"
      },
      "outputs": [
        {
          "output_type": "stream",
          "name": "stdout",
          "text": [
            "Reading package lists...\n",
            "Building dependency tree...\n",
            "Reading state information...\n",
            "x11-utils is already the newest version (7.7+3build1).\n",
            "xvfb is already the newest version (2:1.19.6-1ubuntu4.10).\n",
            "The following package was automatically installed and is no longer required:\n",
            "  libnvidia-common-460\n",
            "Use 'sudo apt autoremove' to remove it.\n",
            "0 upgraded, 0 newly installed, 0 to remove and 45 not upgraded.\n",
            "Looking in indexes: https://pypi.org/simple, https://us-python.pkg.dev/colab-wheels/public/simple/\n",
            "Requirement already satisfied: gym[box2d]==0.17.* in /usr/local/lib/python3.7/dist-packages (0.17.3)\n",
            "Requirement already satisfied: pyvirtualdisplay==0.2.* in /usr/local/lib/python3.7/dist-packages (0.2.5)\n",
            "Requirement already satisfied: PyOpenGL==3.1.* in /usr/local/lib/python3.7/dist-packages (3.1.6)\n",
            "Requirement already satisfied: PyOpenGL-accelerate==3.1.* in /usr/local/lib/python3.7/dist-packages (3.1.5)\n",
            "Requirement already satisfied: EasyProcess in /usr/local/lib/python3.7/dist-packages (from pyvirtualdisplay==0.2.*) (1.1)\n",
            "Requirement already satisfied: numpy>=1.10.4 in /usr/local/lib/python3.7/dist-packages (from gym[box2d]==0.17.*) (1.21.6)\n",
            "Requirement already satisfied: scipy in /usr/local/lib/python3.7/dist-packages (from gym[box2d]==0.17.*) (1.4.1)\n",
            "Requirement already satisfied: cloudpickle<1.7.0,>=1.2.0 in /usr/local/lib/python3.7/dist-packages (from gym[box2d]==0.17.*) (1.3.0)\n",
            "Requirement already satisfied: pyglet<=1.5.0,>=1.4.0 in /usr/local/lib/python3.7/dist-packages (from gym[box2d]==0.17.*) (1.5.0)\n",
            "Requirement already satisfied: box2d-py~=2.3.5 in /usr/local/lib/python3.7/dist-packages (from gym[box2d]==0.17.*) (2.3.8)\n",
            "Requirement already satisfied: future in /usr/local/lib/python3.7/dist-packages (from pyglet<=1.5.0,>=1.4.0->gym[box2d]==0.17.*) (0.16.0)\n"
          ]
        }
      ],
      "source": [
        "%%bash\n",
        "sudo apt-get install -y xvfb x11-utils\n",
        "sudo pip install gym[box2d]==0.17.* pyvirtualdisplay==0.2.* PyOpenGL==3.1.* PyOpenGL-accelerate==3.1.*"
      ]
    },
    {
      "cell_type": "code",
      "execution_count": 16,
      "metadata": {
        "colab": {
          "base_uri": "https://localhost:8080/"
        },
        "id": "Ot-p8TC6PRF7",
        "outputId": "b6a42615-0488-4958-bf82-8721e19aad44"
      },
      "outputs": [
        {
          "output_type": "stream",
          "name": "stdout",
          "text": [
            "Looking in indexes: https://pypi.org/simple, https://us-python.pkg.dev/colab-wheels/public/simple/\n",
            "Requirement already satisfied: pyvirtualdisplay==0.2.* in /usr/local/lib/python3.7/dist-packages (0.2.5)\n",
            "Requirement already satisfied: EasyProcess in /usr/local/lib/python3.7/dist-packages (from pyvirtualdisplay==0.2.*) (1.1)\n"
          ]
        }
      ],
      "source": [
        "!pip install pyvirtualdisplay==0.2.*\n",
        "# !pip install gym\n",
        "\n"
      ]
    },
    {
      "cell_type": "code",
      "execution_count": 17,
      "metadata": {
        "id": "upuuLEdwMH4-"
      },
      "outputs": [],
      "source": [
        "import numpy as np\n",
        "import matplotlib.pyplot as plt\n",
        "%matplotlib inline"
      ]
    },
    {
      "cell_type": "code",
      "execution_count": 18,
      "metadata": {
        "colab": {
          "base_uri": "https://localhost:8080/"
        },
        "id": "aWaGpCrIPRF8",
        "outputId": "da79b792-e0f6-49a9-f17d-0b14e45ac71c"
      },
      "outputs": [
        {
          "output_type": "stream",
          "name": "stdout",
          "text": [
            "Looking in indexes: https://pypi.org/simple, https://us-python.pkg.dev/colab-wheels/public/simple/\n",
            "Requirement already satisfied: gym in /usr/local/lib/python3.7/dist-packages (0.17.3)\n",
            "Requirement already satisfied: pyglet<=1.5.0,>=1.4.0 in /usr/local/lib/python3.7/dist-packages (from gym) (1.5.0)\n",
            "Requirement already satisfied: cloudpickle<1.7.0,>=1.2.0 in /usr/local/lib/python3.7/dist-packages (from gym) (1.3.0)\n",
            "Requirement already satisfied: numpy>=1.10.4 in /usr/local/lib/python3.7/dist-packages (from gym) (1.21.6)\n",
            "Requirement already satisfied: scipy in /usr/local/lib/python3.7/dist-packages (from gym) (1.4.1)\n",
            "Requirement already satisfied: future in /usr/local/lib/python3.7/dist-packages (from pyglet<=1.5.0,>=1.4.0->gym) (0.16.0)\n"
          ]
        }
      ],
      "source": [
        "!pip install gym"
      ]
    },
    {
      "cell_type": "code",
      "execution_count": 19,
      "metadata": {
        "colab": {
          "base_uri": "https://localhost:8080/",
          "height": 34
        },
        "id": "yGbkzoOD4hjj",
        "outputId": "40c101be-63bd-41c3-a621-706d423abf34"
      },
      "outputs": [
        {
          "output_type": "display_data",
          "data": {
            "text/plain": [
              "<Figure size 640x480 with 0 Axes>"
            ]
          },
          "metadata": {}
        }
      ],
      "source": [
        "import pyvirtualdisplay\n",
        "import gym\n",
        "import matplotlib.pyplot as plt\n",
        "from IPython import display\n",
        "from matplotlib.pyplot import figure\n",
        "\n",
        "figure(figsize=(8, 6), dpi=80)\n",
        "\n",
        "_display = pyvirtualdisplay.Display(visible=False, size=(1400, 900))\n",
        "_ = _display.start()"
      ]
    },
    {
      "cell_type": "code",
      "execution_count": 20,
      "metadata": {
        "id": "ivOoBdaa3vDy"
      },
      "outputs": [],
      "source": [
        "from matplotlib.animation import FuncAnimation\n",
        "\n",
        "def update_scene(num, frames, patch):\n",
        "    patch.set_data(frames[num])\n",
        "    return patch,\n",
        "\n",
        "def plot_animation(frames, repeat=False, interval=40):\n",
        "    fig = plt.figure()\n",
        "    patch = plt.imshow(frames[0])\n",
        "    plt.axis('off')\n",
        "    anim = FuncAnimation(\n",
        "        fig, update_scene, fargs=(frames, patch),\n",
        "        frames=len(frames), repeat=repeat, interval=interval)\n",
        "    plt.close()\n",
        "    return anim"
      ]
    },
    {
      "cell_type": "markdown",
      "metadata": {
        "id": "bxL82LzJMH5H"
      },
      "source": [
        "# OpenAI Gym\n",
        "\n",
        "We're gonna spend several next weeks learning algorithms that solve decision processes. We are then in need of some interesting decision problems to test our algorithms.\n",
        "\n",
        "That's where OpenAI Gym comes into play. It's a Python library that wraps many classical decision problems including robot control, videogames and board games.\n",
        "\n",
        "So here's how it works:"
      ]
    },
    {
      "cell_type": "code",
      "execution_count": 21,
      "metadata": {
        "colab": {
          "base_uri": "https://localhost:8080/",
          "height": 303
        },
        "id": "zFwPZevVMH5N",
        "outputId": "cbc17a58-be43-4a98-b32c-d5af3906882a"
      },
      "outputs": [
        {
          "output_type": "stream",
          "name": "stdout",
          "text": [
            "Observation space: Box(-1.2000000476837158, 0.6000000238418579, (2,), float32)\n",
            "Action space: Discrete(3)\n"
          ]
        },
        {
          "output_type": "display_data",
          "data": {
            "text/plain": [
              "<Figure size 432x288 with 1 Axes>"
            ],
            "image/png": "[encoded data removed]"
          },
          "metadata": {
            "needs_background": "light"
          }
        }
      ],
      "source": [
        "import gym\n",
        "\n",
        "env = gym.make(\"MountainCar-v0\")\n",
        "env.reset()\n",
        "plt.imshow(env.render(\"rgb_array\"))\n",
        "print(\"Observation space:\", env.observation_space)\n",
        "print(\"Action space:\", env.action_space)"
      ]
    },
    {
      "cell_type": "markdown",
      "metadata": {
        "id": "MVSBQNkBMH5P"
      },
      "source": [
        "Note: if you're running this on your local machine, you'll see a window pop up with the image above. Don't close it, just alt-tab away."
      ]
    },
    {
      "cell_type": "markdown",
      "metadata": {
        "id": "MNNA8HhfMH5Q"
      },
      "source": [
        "### Gym interface\n",
        "\n",
        "The three main methods of an environment are\n",
        "* `reset()`: reset environment to the initial state, _return first observation_\n",
        "* `render()`: show current environment state (a more colorful version :) )\n",
        "* `step(a)`: commit action `a` and return `(new_observation, reward, is_done, info)`\n",
        " * `new_observation`: an observation right after committing the action `a`\n",
        " * `reward`: a number representing your reward for committing action `a`\n",
        " * `is_done`: True if the MDP has just finished, False if still in progress\n",
        " * `info`: some auxiliary stuff about what just happened. For now, ignore it."
      ]
    },
    {
      "cell_type": "code",
      "execution_count": 22,
      "metadata": {
        "colab": {
          "base_uri": "https://localhost:8080/"
        },
        "id": "zbZESE55MH5R",
        "outputId": "c0394333-4287-49a0-e302-bcbb9830fa93"
      },
      "outputs": [
        {
          "output_type": "stream",
          "name": "stdout",
          "text": [
            "initial observation code: [-0.58881599  0.        ]\n"
          ]
        }
      ],
      "source": [
        "obs0 = env.reset()\n",
        "print(\"initial observation code:\", obs0)\n",
        "\n",
        "# Note: in MountainCar, observation is just two numbers: car position and velocity"
      ]
    },
    {
      "cell_type": "code",
      "execution_count": 23,
      "metadata": {
        "colab": {
          "base_uri": "https://localhost:8080/"
        },
        "id": "cE4k123HMH5T",
        "outputId": "18c21845-89c1-4113-fe75-89a8e38a6e98"
      },
      "outputs": [
        {
          "output_type": "stream",
          "name": "stdout",
          "text": [
            "taking action 2 (right)\n",
            "new observation code: [-0.58732997  0.00148601]\n",
            "reward: -1.0\n",
            "is game over?: False\n"
          ]
        }
      ],
      "source": [
        "print(\"taking action 2 (right)\")\n",
        "new_obs, reward, is_done, _ = env.step(2)\n",
        "\n",
        "print(\"new observation code:\", new_obs)\n",
        "print(\"reward:\", reward)\n",
        "print(\"is game over?:\", is_done)\n",
        "\n",
        "# Note: as you can see, the car has moved to the right slightly (around 0.0005)"
      ]
    },
    {
      "cell_type": "markdown",
      "metadata": {
        "id": "5SxruGCxMH5V"
      },
      "source": [
        "### Play with it\n",
        "\n",
        "Below is the code that drives the car to the right. However, if you simply use the default policy, the car will not reach the flag at the far right due to gravity.\n",
        "\n",
        "__Your task__ is to fix it. Find a strategy that reaches the flag. \n",
        "\n",
        "You are not required to build any sophisticated algorithms for now, and you definitely don't need to know any reinforcement learning for this. Feel free to hard-code :)"
      ]
    },
    {
      "cell_type": "code",
      "execution_count": 24,
      "metadata": {
        "id": "EXuiRagxMH5X"
      },
      "outputs": [],
      "source": [
        "from IPython import display\n",
        "\n",
        "# Create env manually to set time limit. Please don't change this.\n",
        "TIME_LIMIT = 250\n",
        "env = gym.wrappers.TimeLimit(\n",
        "    gym.envs.classic_control.MountainCarEnv(),\n",
        "    max_episode_steps=TIME_LIMIT + 1,\n",
        ")\n",
        "actions = {'left': 0, 'stop': 1, 'right': 2}"
      ]
    },
    {
      "cell_type": "code",
      "execution_count": 25,
      "metadata": {
        "id": "93OcZ1I-MH5Y"
      },
      "outputs": [],
      "source": [
        "def policy(obs, t):\n",
        "    if t > 50 and t < 100:\n",
        "        return actions['left']\n",
        "    else:\n",
        "        return actions['right']"
      ]
    },
    {
      "cell_type": "code",
      "execution_count": 26,
      "metadata": {
        "colab": {
          "base_uri": "https://localhost:8080/"
        },
        "id": "397i03DXMH5Z",
        "outputId": "ac5ef123-4eb9-400c-8282-49d7f6e76c68"
      },
      "outputs": [
        {
          "output_type": "stream",
          "name": "stdout",
          "text": [
            "Well done!\n"
          ]
        }
      ],
      "source": [
        "frames = []\n",
        "\n",
        "obs = env.reset()\n",
        "frames.append(env.render(mode='rgb_array'))\n",
        "for t in range(TIME_LIMIT):\n",
        "    \n",
        "    action = policy(obs, t)\n",
        "    obs, reward, done, _ = env.step(action)\n",
        "    frames.append(env.render(mode='rgb_array'))\n",
        "    if done:\n",
        "        print(\"Well done!\")\n",
        "        break\n",
        "else:\n",
        "    print(\"Time limit exceeded. Try again.\")"
      ]
    },
    {
      "cell_type": "code",
      "execution_count": 27,
      "metadata": {
        "colab": {
          "base_uri": "https://localhost:8080/"
        },
        "id": "SBTKPQExMH5b",
        "outputId": "725c21fd-2892-457c-8bef-5ef32b0ba4a6"
      },
      "outputs": [
        {
          "output_type": "stream",
          "name": "stdout",
          "text": [
            "You solved it!\n"
          ]
        }
      ],
      "source": [
        "assert obs[0] > 0.47\n",
        "print(\"You solved it!\")"
      ]
    },
    {
      "cell_type": "code",
      "execution_count": 28,
      "metadata": {
        "colab": {
          "base_uri": "https://localhost:8080/",
          "height": 309
        },
        "id": "sks1KAFt4xfL",
        "outputId": "1bbd836b-538a-4747-b6db-838c0e7566c4"
      },
      "outputs": [
        {
          "output_type": "execute_result",
          "data": {
            "text/plain": [
              "<IPython.core.display.HTML object>"
            ],
            "text/html": [
              "<video width=\"432\" height=\"288\" controls autoplay>\n",
              "  <source type=\"video/mp4\" src=\"data:video/mp4;base64,AAAAHGZ0eXBNNFYgAAACAGlzb21pc28yYXZjMQAAAAhmcmVlAAA8Y21kYXQAAAKuBgX//6rcRem9\n",
              "5tlIt5Ys2CDZI+7veDI2NCAtIGNvcmUgMTUyIHIyODU0IGU5YTU5MDMgLSBILjI2NC9NUEVHLTQg\n",
              "QVZDIGNvZGVjIC0gQ29weWxlZnQgMjAwMy0yMDE3IC0gaHR0cDovL3d3dy52aWRlb2xhbi5vcmcv\n",
              "eDI2NC5odG1sIC0gb3B0aW9uczogY2FiYWM9MSByZWY9MyBkZWJsb2NrPTE6MDowIGFuYWx5c2U9\n",
              "MHgzOjB4MTEzIG1lPWhleCBzdWJtZT03IHBzeT0xIHBzeV9yZD0xLjAwOjAuMDAgbWl4ZWRfcmVm\n",
              "PTEgbWVfcmFuZ2U9MTYgY2hyb21hX21lPTEgdHJlbGxpcz0xIDh4OGRjdD0xIGNxbT0wIGRlYWR6\n",
              "b25lPTIxLDExIGZhc3RfcHNraXA9MSBjaHJvbWFfcXBfb2Zmc2V0PS0yIHRocmVhZHM9MyBsb29r\n",
              "YWhlYWRfdGhyZWFkcz0xIHNsaWNlZF90aHJlYWRzPTAgbnI9MCBkZWNpbWF0ZT0xIGludGVybGFj\n",
              "ZWQ9MCBibHVyYXlfY29tcGF0PTAgY29uc3RyYWluZWRfaW50cmE9MCBiZnJhbWVzPTMgYl9weXJh\n",
              "bWlkPTIgYl9hZGFwdD0xIGJfYmlhcz0wIGRpcmVjdD0xIHdlaWdodGI9MSBvcGVuX2dvcD0wIHdl\n",
              "aWdodHA9MiBrZXlpbnQ9MjUwIGtleWludF9taW49MjUgc2NlbmVjdXQ9NDAgaW50cmFfcmVmcmVz\n",
              "aD0wIHJjX2xvb2thaGVhZD00MCByYz1jcmYgbWJ0cmVlPTEgY3JmPTIzLjAgcWNvbXA9MC42MCBx\n",
              "cG1pbj0wIHFwbWF4PTY5IHFwc3RlcD00IGlwX3JhdGlvPTEuNDAgYXE9MToxLjAwAIAAAAg3ZYiE\n",
              "ADv//vdOvwKbRZdqA5JXCvbKpCZZuVJrAfKmAAADAAARsG58lw15q9IkAACtgA2j/ghH3kB0VP62\n",
              "hwUwe/KZK0EToZ6XF1mgANadUymcZqIy2qDWV4mX42pmZaXns1xfZlWNTDEP5CYwJw7UWfaePN8w\n",
              "A/zUI6xvi430qou60BOqHC7/DpJlhjyAhFHUvpEc76NhVizbsx5zRhkYFv8CKXOLD5W1IkN/pTnJ\n",
              "pRJ7LynV3znj1LspNYKBQgB1jeQ0jcovVOHYw1rciyJwdNHA2xo7yzbgF7nuMxaN8EBXSZ2KJMB1\n",
              "v9Kq9Neeyo7Ax5z/pkNk70LnEVdA9VJlkxwAJM9s5KVbFdTsXFO02MKnAYEkOvVWBGT35cOUJ6yH\n",
              "HRQ+aIxVI/bsozGSwyBocfvcaNFpPLZZOxXi2r++Q8hLjopg9axKvGBhjhw/uu5BfxpkZk458dcb\n",
              "yFOyt5Wo+IJaN/TvTF4agBGi3O29v29cyPzTC66gtCq5rO4u9C2KzvICjkjNTn1k/uev4JWvHKF4\n",
              "yLN3T3hQC/68uVp56PA0pImYafZ+/Ghh8IvTwB/cssh1WHt5pGpQ8i4IpgVizGJoWzDuvZ1ntio+\n",
              "jOFEP0rGHWnbZiQ4GnukDXBolHVa90Cx0nbnXrGRgssX8tMUkG0wa2zZr+Ylu3Jo59dTk3WydmKZ\n",
              "PFt3vKDaLgpoUDWyC/ZkO3J6csU9K7xs3ltXyYxPhlLQTGGevronF1DLhCusiCOeFH3f684kCLvR\n",
              "ng5+oRSl+vlpd+ctmX44gUp3dIxuF6Q7aGobYMkzT45HixFP+Kvs1eHHeLWC4BxASyvTfAbNFcm+\n",
              "xwY/RKlrBfBgwMfYk+UnHLMdbPhL6LIZHwhx05mRxMjUd84Xdkxi2fDKI/NH3AYA1CbzdDBQV1aN\n",
              "rbQWj/38Fv/VvOU4K1L9a2AVfPam9mwT9C3o6E+9ePsxK1ju+b2zC+yoR2hF1U5zsdDRzk+F5nFc\n",
              "6SsYQFS9P+rRAbmJRP4xBnqTKMBU9XPFRueJ/0ELy7gMZTOBJbxTclA/5j0HK7u4o5FCRJXCBz9k\n",
              "tgWP+fwzkuMad6E711us35kIkMO40eZS7Fr7fytdXBEoQ7Z5jZcxcvPrSMzydwcfc8F20xXzv3vw\n",
              "7vgUYrtWOgqP96/TAqOEeb5EbPDCA+O7Dp0LvwL//pZIaKOciWuITco+HtxNPet9WVRtleK9UGV7\n",
              "RMCqdyhXWSikOtBbvrRYe7HN2vJgFmdVzEFAhetWeY8cRldaYJruph5quRufSAmbAOXBtMXd4qKA\n",
              "ubiiOt28+/zXM0HVp3g9E9OGowR/8T4NctBkPOmi3GSm7PPP0R5d8Yrt84z1VDonoSRH4YgvxhJb\n",
              "lvAMEA8Q98r90axb6e7uuerikdpGFNhJZk0AhycBZZ/+JOyIw52eEGMCLADk3qv9fogUlyIK5Wca\n",
              "ebkub2+xnCsqnGhKSLt+Hr616Mr8ZhRhCaFt7tIB4X5pkmCjv2AlkJ2F2EmSkbU6ha7yJMuoKY3f\n",
              "pwATxBVWam/eKUMuRFS79VUcz1IGfY1M7cU93jrJ9rTcdlV5VDhOpZPkJOxi3BgBZIKMUhVcF+Sk\n",
              "wwpG7p6JZwQldy/PrP7MA9jHnZw95gNbh4Pq9LOLXLWSNIN+JiRxOuvQa3zsXrgFZhPM5lMjgnNb\n",
              "84F4pcyC7+/bA93Rh2RLjmXDUZPM3DeOgRjymggZjgd4eDIZCvBbIlqR0pnbH9wLQXMAJw9sh0ZZ\n",
              "qozJrioqAOosNoippmKgS0r4ZFamrdG+1SonL+snsHOUghtXt0l+SnN6QQxyT4VV2l2kVXJ7JgLr\n",
              "n7Hg9sm666adM6f9I+yM0d6fVAxNWUQn9PAoRp6hzIpwGK0wAejd4s34q9U/KgTNn/kUa/j8ksEd\n",
              "OpKfcYzzzPkCDgWICFiuJTBK6UGZ8cXGx2JrpfCgu+MRcHmu60tNMrEIRWYlL9iYS+QEm3l89Uyh\n",
              "xkJUZpGiQUQJvnTjrtuB10inr08E4Iq1MKCdGQuBazoHJ52//ZdWT3s+CsTHU50Mn4BRx/iFCG9A\n",
              "nT0z53GvwtrBuYKgOf3CbH37fjCGlylkXOiY53/VGnse3w87FhuzKUqmuRKu+ayXKzqINCCiw5KZ\n",
              "6MZ3IOA7xVYkcr5YD4ziDBY/4/Jd8RgBezy4MYMuDk8Vz/3Fd9sgAr6RtNOsLsPXaQSj55YUmcT1\n",
              "SAvZK7RLfiyCL9tKW76K2WTerokFYuFwtCIG7M8qnBAkzuWzwnkZM8R2/gcT+V2OBfk4zDVXb5jT\n",
              "6kGZz0TgffFHF/BczxLNIkT/+9LtjDpSYkflj1gfvoAtTznXTHkJ8V09jN9HZW6s8nxFWQV8I11C\n",
              "nuHO2WhF0UDvdiEL+XoUFhQkkXAB9x8uqP95VjE/hHgn6m0Y8oqUOIoiw5ZFmOUGUztxDhJ3v85C\n",
              "Gqn045t5iSErMyn4GAAAAwDNA/+E/yNp6T377zOcTE+/GlIJa2hPjKo5C5o20Z0Q+HK9up/t9jyb\n",
              "YUaa2g7s2N73z6ooA4GGHz5SrvBACcWT6TpuolHEDZuh/hyW1x9hg23grVqP9ZPWTOOh4noubKg0\n",
              "GY7oWTHwT3X3zaNIJz9/xL5+tCsiTYtVkNhmeUo9k8bc6nbNc4nYQEuxozAAlV/FY/r9Nw2k7UD7\n",
              "7L15I4U3sZbxe7xiCMCjV3KpXxUsbsVMUThS/8FHTPXgzXZAvH7R0/j44I2AjMcpjXrER5+ZGypx\n",
              "aeTZji0n3xcJRwTeZhE4rvhLScYx1q1Sa4P73UczMQHDLVsWRk6PgAADXMAAAD0hAAAAeUGaJGxD\n",
              "v/6plgAAFunc5UAAmQxNRWimRv2lO4B2qq8+PGpDVBvphPx+ne+VGNFIYWqrr5KMkpXhDqd+pbVS\n",
              "QuEDraDjmt43ytRTbxCpbOAYlwVXXUGUbrz4WFN4kcH4yQm0ctsmra3JQip/0SV9EqduVVJJRy7+\n",
              "SjYAAAAnQZ5CeIX/ABAoauG4mNqpq9ACDy7CPJy4/GneXkTZkR7B0pVDK1DhAAAACwGeYXRCvwAA\n",
              "AwGLAAAADgGeY2pCvwAAJKkBX/mBAAAAgEGaaEmoQWiZTAhv//6nhAAALVD/4s7CDwAt2gBJHFOm\n",
              "dqlFQbRoaFkYHWHgHASwsJblH7s6zsOyXXnYcVxLEjNeZ6+q9GKqaktCSdABtYd0X5K4B6wc8sSW\n",
              "wx3Vmro7BUbmg/KgSQ631TjpGWpjgFxjjfLYIU+8wCQKfHV0GxlbAAAAPkGehkURLC//ABBfOYRH\n",
              "L/tOQOE4hYAGzCAd8EEx0h7avZ8UxMuLz0JZSKR8Ybubis7AnMTV04FYwd2Sm14xAAAAFwGepXRC\n",
              "vwAAJUqjFWot0BeKjLf5HRmHAAAAHwGep2pCvwAAJUqi90rvJo0UNnogA5nFco5QwHzekDQAAAB9\n",
              "QZqrSahBbJlMCG///qeEAAAthdgoebkALXd/i08WjnSn1opgFe4EPvob1wWVHVP3qN8gGzBQ3Sr7\n",
              "o20J0cKeGj5qzITVQtSVbiG8HM4iCVJAm3jvgxItemQ9raUbwmXNzezQKNpJOLSG4j5JFz2n1e4d\n",
              "BZovMKj2KxEsHK0AAABCQZ7JRRUsK/8AFr5MyELEGpV4AG0XJBl/C+lpMgfrI1wa6MGaJv7NL7/X\n",
              "KOGvWNesm0S0bS1XWYuiapPBrto/sKejAAAAJAGe6mpCvwAAJDZ8K2U0owHl4XuKwKkQhzrsH4Ub\n",
              "oAHReQI1bAAAAHhBmu1JqEFsmUwUTDf//qeEAAAtX/4fwKABdUoRF2JfTOqOH4YeB1pEPhwPg6xa\n",
              "qWJAL1okqNTrwSa6gebD91VsMAgOSUQwubMCvVbYGukoLMy1Et45pVuNWnmPacZXStJsfJhLKlvW\n",
              "0CmtfMRA/LraRd5uBiEO844AAAAoAZ8MakK/ABa+TMl9QKovB8AcBekP+/BsL+gA5sNqc9j3SWmI\n",
              "pj040QAAAH1Bmw5J4QpSZTAh3/6plgAAFvO18moAHvAwJhax/Z40zRsmhti6MxuQtgEAhjxsPZb2\n",
              "8EaE9RtCsDmBTQFIVY7YRVS8dDMALrfC9veUYMwrHXrTPvayF3DSLWVJS/SBkeXdWwBFeEJOzMMN\n",
              "tSJvGNbfZdseizjcD+6i/xsLwQAAANBBmzJJ4Q6JlMCG//6nhAAAVjfEHDyMwScd6TQlQz9O/g/q\n",
              "i4AV/Ya1+KkLSjsJzm8dn2ViOGYng4CeCW95tcOP3sUn04y0jppUGhjQy/z+XCtERpORk7w7h2Bw\n",
              "VPx4C4+bgBcLySwzyXyK/cmy4yct+OjCBXi0yZ+uHHWQWqyvECZqadHK7vO2Mox6kcE+2u41HdoT\n",
              "WyZPFnRKo+NFGt2doY7O4fA0kf1fG3bZhKwV+kWDtoXDRq6T/FTeaRvHBuWZ8LggFZg5Jegs9Xnm\n",
              "5NBBAAAAQUGfUEURPC//ABBeLnh+OVyo8DNeMNFcTOxNCrWC+esxpMiwADTDB3kPBRX4kIAHpRn0\n",
              "VBTrkmAiGSWnDRc0rujgAAAAKgGfb3RCvwAAR1ztZZGOmFuHN7ujsaiKyoAEQDwcD3MNhpWp/QL/\n",
              "B3crMAAAADMBn3FqQr8AAEd146TXwiZ7hZVHLrZizka1IoAIbrTfFhq+IXauH6j7O4RYw92zGv/o\n",
              "tEEAAACoQZt1SahBaJlMCG///qeEAABYmXIf9MiZBu7WwPTdywpko13XNmpFkspe8dN59fVqV3Q8\n",
              "rrv786Vxft8of1RjglCcZCD/VjFAfn5CczC6pHPwzowhGu08TUIGsWsa1CeLa4vKiO6nT25wtfnr\n",
              "h55z0OCCW+iE0f5lVezE0GvjJ85QdhwyQ9l+y84LkZvVzSXt6JAAnU9r2UE4NXsYvG2LiJcTmT0e\n",
              "DlggAAAANEGfk0URLCv/ABa+TMlzmioId1+2mIwPBbFCa43RRO/S9qEAKx4ABOupEfKISBn+eHBV\n",
              "F3wAAAAuAZ+0akK/AABHDnyQxGdMU+i8mOAFJOiw2Z9/Z3KY2UobxNZI0VGnfpjSp4V/MQAAAJdB\n",
              "m7hJqEFsmUwIb//+p4QAAFiloWP6ZAydNb3RjdGMcFUfHKsgCsG7YiuwMwo4vyOJtI1J2hXMfNGA\n",
              "taAXTe4Ze2g9szX+IhRHKkrUas/GFCEPD60bUsDskKg6SpybKsvKPMZXNaeTvPhahZPIYWIPRCgA\n",
              "jmKwWngSvR8jyx3tgJjEUYRSskgbFrA6yW21was2XFNF2KmAAAAANkGf1kUVLCv/ABa+TMl9Lqdx\n",
              "we8VtW81C9pB8ts1bQgAiDPy+TlMvaxh8EerNRrPtlKgXTPgIQAAACkBn/dqQr8AAEd1yG6yZo1+\n",
              "tC4SzMAAdTPVybS0DITH15FmhJHhQNLuWQAAAHRBm/tJqEFsmUwIb//+p4QAAFhwmz/TIChAqZaX\n",
              "zZeYS771F1Xt8DRsUtLj9K0z5Z9dhY5pP33OQLztFZ3+gADb13fTPq/Hbs9WN+Xuy6PBl72YICjf\n",
              "RcJbJC66sU+SbDJaiBwMGVIxUx2hDzrvaq+kaH703AAAAB5BnhlFFSwr/wAWvkzJa3Jb7Jgv/ohB\n",
              "sq6KgWC8L6EAAAAXAZ46akK/AABFUclk7YXB/gzdl0fse2AAAACKQZo/SahBbJlMCGf//p4QAAFY\n",
              "looAPjuBiCzHnyKkbzbBejbtxH/gKBtNhRnVJuUC01L/YnczyBz9NaH2hfpUqTzeT/9bjlMWNzzO\n",
              "K/IBv85ZMVu4uqq/1ZgJ9rgBY4ia/uML7lXiN6JDFuj3pUt5JTXUQ8z3Aaln6mFMw1PWsFj+HIS6\n",
              "KlenTR7xAAAALkGeXUUVLC//ABBfOYT+SSQRNRzoMt94W0vJLQ8Iu6i9BwAhPKy80O/ce228okEA\n",
              "AAAgAZ58dEK/AABFWwtUWd4/hEAF63NXd82ta+UqV7c3dsAAAAAhAZ5+akK/AABHY9yCksgDIJhr\n",
              "LkmVtCU9hgAmUYky/cV8AAAAdkGaYEmoQWyZTAhv//6nhAAAVk8Yfc4ASr9H0TMs1fgyDVWucrH6\n",
              "wL/Ggwh4PhWVlHdLsV7Ep8KgahQg/t2N8HkEFDxo0HJggC8tlYnugDgZ3impA0vN3Boh91CltOjq\n",
              "tSfkYQNqSXB/KuQbl6CTNUnlKInvgvMAAAB4QZqBSeEKUmUwIb/+p4QAAFZaeoxEALcOSHW0Fx0Q\n",
              "xhvcMZCS/oFbV+V/vy60sWvG9XvjVu9I1nDgLXkincRdxqd9AHpUAcdpRM49AH95Ma6rYIT6pHck\n",
              "wedv/ffI1EmJQ61msd1vW7a1F2pmkpspqVjiQpdnlPosAAAAgUGao0nhDomUwU0TDv/+qZYAACyc\n",
              "haAKDVECgDrb4wXD25dfrORwSQuYeqYiWN31n67GHq1cCbc0fKOIGbUmUXJVblOe70UXndYaEpAY\n",
              "h2j9A0PCmVCJh3RjSS7o/eSdSb6GKqGGZePSZ/kQmR5/A5JAYzqv2PXZab5J+zMJvnDu4QAAABIB\n",
              "nsJqQr8AFnsyNn98Yb2AGCAAAABcQZrHSeEPJlMCG//+p4QAAFZZM43QALnXC3U4sZ3Mg/f97Fo+\n",
              "koNOuSqugtSD9zAhFlb51IL9miAT+PTk17tKvLzQGXd3PZ4x4klXYcjDUWsD7+5+USsUBjvgvMEA\n",
              "AAAgQZ7lRRE8L/8AEChq4eqyBz6gv2KclPb7c4+4Hqu8pCEAAAAQAZ8EdEK/AABFbPTF6HenywAA\n",
              "AA0BnwZqQr8AAEV1/gjhAAAAR0GbCEmoQWiZTAh3//6plgAAK5F1wWAE1cSLH6P0afo3+02I4XIn\n",
              "ho1IetxQMBc++OSq5QucK4GEKK5qrcpUyvrPGrJ4qOnMAAAAhkGbLEnhClJlMCHf/qmWAAAsnIWg\n",
              "BYepmwmFKCTff2wt+RDX73sA0jZvhetXYSc8fLrkuyLUF8z43QFiDu8/QybtQYaWKLzZeqgIrgI9\n",
              "mfPetuWnTjq6FsAj6hDp2PnQV0yuFqFlrxcrYq3vpnpAzXe7XOIeThTeF7xTKIlLQ97ETtXLCTu4\n",
              "AAAALEGfSkU0TC//ABBeLnlxm3E2B+kZhtXZnY2apA/mu5e9/AB/PonefGlJakHBAAAAEwGfaXRC\n",
              "vwAAirokiXlvrPjUNKQAAAAZAZ9rakK/AACK6/RPihGbc9rNaMfHSI9ugAAAAJBBm3BJqEFomUwI\n",
              "b//+p4QAAFhyXJeZAHMgSBZIfwRT8DOb0bC8ZCawKhw7D1wh+ZJVcWj3xg4Ep2+y4BTVZiimKMgb\n",
              "21JA+JoiTwGiuXPr7uhBeDYmQAThKIpK4V/gB57cLQggqy2D8hVg4G+KuZjSnKIoHgPMU0nk35Pe\n",
              "ENOC378+s/J7CM6fWtV9i6/mXu8AAAAvQZ+ORREsL/8AEF85hmmqO1xEl6I6HxKFuJ/6hQ5MY8AD\n",
              "X1FopQ3VQ/jt0fwRVlMAAAAfAZ+tdEK/AACKuhLv9AbUXdgAh1aeyGmuF+NBvAENIQAAABkBn69q\n",
              "Qr8AAIrr47nOJqxc1yl3Q6aa3KWTAAAAZEGbs0moQWyZTAhv//6nhAAAWIB1iVRWm8JAB+JrPuVG\n",
              "Nssutb9qa/d6dYy0hNSF63HYDpqDTrbTmSTUVn/q3G3D+EAzO7sP9DXr2X28aQ07NuHEG/TqqGQf\n",
              "VBUurP6H71GsWrgAAAAwQZ/RRRUsK/8AFr5My9hIrANj7jFRVnZSGVN6u+GQwGrp8gAGvYUYnZXY\n",
              "EJtX+pNxAAAAFwGf8mpCvwAAiuv03IFAR9CqAKL60XiQAAAAcUGb9UmoQWyZTBRMN//+p4QAAFhy\n",
              "HbshUo+gAcWJ0ZC4wjb+NLLZ2cFpXBFBE2nvQFYst++bBl0anHEyW4vU0y3BwxJETmSMsmlbzqrx\n",
              "nmz8otA7f7jGqPsDYGRqHzdc02xKePL1f0pw3wjr1BUK4tXAAAAALwGeFGpCvwAWvkzL2EirNhb6\n",
              "oi37Z3NPVTqEYNx78pszSF0EngBAs2mqYJbQfLWzAAAAmUGaF0nhClJlMFLDf/6nhAAAWPmXaOb3\n",
              "E5ngZdnB43AA/NLHTCGV5TnPz8vBe8WrDTuhWx/eal2ijbLFQVT7jbRhyxK4U5KSjWO7UcS9me/A\n",
              "VJIlwMMXpvsn9gGBSPSLqNCeXPbEG8deQZPj8dZZcSYW/ZjIN/tGguMRon3HMRHZdoxqIbYLmOvj\n",
              "eTJ5ZIaYHSW2TO2Be/SsEAAAACIBnjZqQr8AFnsyNr8u5rJqarRXjGts8laqZ+8oRZC0kt5xAAAA\n",
              "rUGaOknhDomUwIb//qeEAAAtUWf2SIzodD4AKbEUDVpO9fKMt4QTcxv9HzxBgC9VgQxuhPRCX34P\n",
              "0jBmOAp4fHvyrdb7K/Ef0i143u8C5LE8lsW6wdaumWV2x08Wc6aascpScahmxfdlCEfrzdWBZTwF\n",
              "OLJXtJfUWEIE+TMNqwukPdiTL9Ag7QVtw9gdt95oL/asYK56eSbsrpC4+SfNGyUYP46ib7kZxBAY\n",
              "HLfNAAAARkGeWEUVPCv/ABZ7Mja/Cy8QfL+Ysx3MjAgmaw0CcezUVdfQAP+PbA2AaZRKQSttxVAp\n",
              "yRvurBxL2r1pfVP05aderN11P4AAAAAjAZ55akK/AABElkwQocY0J6YJ2+Dtcjg1329QbMkpYcM9\n",
              "RZkAAABwQZp7SahBaJlMCG///qeEAAAthWJyvl/gAlGADvWbso0dBGoK5wYq6sFVCrPnQyVhuoQz\n",
              "XBYUBacpBgQ871J+qQIKwX4G1GqEqgNExJbsgz9BU3tKrmrUhpdgUVBiFQfDmx1jff+m/+ve3lSE\n",
              "jytRgAAAAL5Bmp5J4QpSZTAhv/6nhAAALnC5UTUnyBkAGUfR62neXMS5cXxu/mbIsx4IXQYo08jX\n",
              "LM8ktudULDH3knr5wFYwdyfWDxOJloMX8Agfbr5X6pVMVAUzjuQ8Gh7uG6+Fu4FrkuE8t//fIUGn\n",
              "ydsvkjNrxt3F++Xc1/acxFWzt7Y2r3gqk1bOL9qypbP1K0R3oVoGjZ/4Hhd6C1kTSW2nHNR11aRj\n",
              "+NvDTqiDgF3w2FpA5wxTpQkOhaLfuqonppfxAAAASkGevEU0TCv/ABa82M4Nss3aABuZ6s2yGwc2\n",
              "JphBqJJ7BPjGm35tyGlUOQYO+65uz7qr/ZpFPk6s/nHnDq+w36mQOvToa3hxGRGBAAAAOwGe3WpC\n",
              "vwAAJajLXtjSywAP+eY0qhwisNu6yrsLUl4nepOrH8rfm51FyXOG9yBgWgPLNf6r1jthKmzgAAAA\n",
              "uUGawEmoQWiZTBTw3/6nhAAAL7FyQAJyKHb1ktwo27/eBTXicQHmK5GatU1PfBx9LXk/mCJYwDDi\n",
              "TR2vFclQAyyy41tRNRh3Aa1WT7MfznKkvgw/W7oc8c/QkJYVVJlJH71IM9Pst4r9D0rKc60rOxzx\n",
              "0KvdETAROIYF+es5TrdRv6uy1owSN5ZS/HoHp2pbQNu5WIyWKiZOLXTgH8vghsYuFwHSBupjiAUr\n",
              "f5SyP+FNVkd0qQmMpEvSAAAAPgGe/2pCvwAWvkzJZLTdpZjXJOWLwlHKC7GEJfju/6gWgC8BSg51\n",
              "L47zgA4f3hlVWatPSdlqRp7772/TnrWBAAAAukGa4knhClJlMFLDf/6nhAAAL6oaJoVd2xKdQAGj\n",
              "eaCKPI+IbMgYsGDXEaRXl/NregSoTB3RyAaedtrLZ5G82Xcawdygpy1NhXsmQOs54A7+C6ySDXu0\n",
              "14HM6rDBSr+0VF1HiP8+PtjOVF7IgBvhzXleLV06iwYGo6KLWjzIDAPSTP04rKY2+on6VSUI6dFK\n",
              "ww1MivcVbMtf//HURdM9IhxfOFOkSwl5URuc2/Iew+W3e3yfxhAOJtWK7gAAAE4BnwFqQr8AFnsy\n",
              "Nsr4l9ScinD/ZGkqe+l7+BQ3vbzSaTe1IlwA0gfWYz93LWj5D3iiZLp5EeCg0XQ9p38g62OAPSVO\n",
              "CXnJ0BCnk0sY8rEAAADgQZsFSeEOiZTAhn/+nhAAAX0Vfl+rYkZnpvfQAZ2rwkF/z5GHXslqyuN4\n",
              "tSZmWptTXkGQa5sFdqv6WVNcVWoMZhmf46i7CCVqRA/0nYq6EovPZSuvpRYkB+CsxM9eOxn9EyC3\n",
              "80iShLjzqHdKTGxUUHBO6P8VUrfbEn/e6O8hilbOBu0knHcnH9KfEPl7LgEVzKGmL/4eoKVG5mBV\n",
              "oI0j+SDEug9mayufQX3EyWbF/CQ6feXdwNJlKKnh4z5X5EAQwYuZgHJ+ygelCguvUgpCXd35WXrH\n",
              "PcNm2WMTqY+BI4AAAABeQZ8jRRU8K/8AFnsyNs74gVMRn99jCoAbg+FBAbgL/6zdTPbJxH7CeGu8\n",
              "79KEw4e271jhhf49wAUgrFOroem91fzIBhI28xPVyPvhslhX+2UHRc+IFQsJ2zpt//SjoQAAADgB\n",
              "n0RqQr8AAIrsCz3F0APZJU4ndOT9vWAw9j24r0sIANdS52/7ioFTF+9wB++YPO4wy5iCykR9gQAA\n",
              "AJBBm0ZJqEFomUwIZ//+nhAAAX7/D1A2kviAAG1B5v04Z6xq1KnvE0yKweiimlId/Y32JfawmcoC\n",
              "4JRZcTx3+k1Ktj/lAmwk/dX5JEyN0qKmrrPV2MZ/2gbmCX1VS2p2Yfxy6/xWQfGreYq+trAKR1HV\n",
              "RUuedOI3pb1MVMspdZCc1J+aQFxyA5fsyFSvqKaU5MEAAACCQZtnSeEKUmUwIZ/+nhAAAvq6YLnr\n",
              "YAHGvJUOYTWTev0dqcEaucGe/XVZ/SnAzxMiKHFxG17ctfZ+be3Ee6E6wqNDiGh4FRZIYqjYi+ie\n",
              "w/qBPQiS+4/jcxuJpBd53vR2kRhy+zeQ1DuIcZmOXqKHWIoDF2SMtSp7iltcLatUoJSqwQAAALNB\n",
              "m4hJ4Q6JlMCG//6nhAAAyQncpMuby6pAByl76AntmgsUJpRTC10f0O6S3U0jgpXRmhUD59xF1yEd\n",
              "hDzAPHF4/HfLh/is9u2BEcMig8E7F6sOvfE7JwlHO+OzF5Qhf8lSEsEEY7qofeTh1eW92SjTSHru\n",
              "H/Tw4Ebb/jhIGmddAA8iZRnr7JYsxu0vqJD2+JTw0hKgcFBYZTxbUPQTpkum+FuD9/EF0hdRCjyA\n",
              "lac3DJRmzAAAAMZBm6pJ4Q8mUwURPDf//qeEAAGT178F3SguT5nK98A2xQFYPsgh+NxF/WOURah2\n",
              "TMGBCwSQBTvNuNrkqErj1Vu8c59w7XMsTSd13afH2Ku2a6li7SJA6Lb54OfpRJgMYCR4Y4NA+ngI\n",
              "vLNog2JsAKDKeR/mmYqGavkmFPBT/q1exrDOw1wuLGp0tnldr+DNVc/tDruo7z2tEc50nTHVJHxY\n",
              "NS3KKBdRxW8X1icXXS+wAJHhmVE8HYmLoR0WM6bHgg+JF6szdnwAAAA8AZ/JakK/ABZ7MjiL4t/T\n",
              "QhiBNAAdoaW0ng8A7iXGPf6sbvvZ000aEt8y9j1fIqhDB/2MEh3kf2SYSrM3AAAAg0Gby0nhDyZT\n",
              "Ahv//qeEAAGTEt4Y6OQAhTsFssxHPqrPVsgPWyuKX73+n+HICbZuZRXAdUrTdBhEyhQRXK7PI/Zj\n",
              "MY1wyRoYBCE1NoT4Iz5sFiMC3xAK8cUeXjUx5a8XtsmXk8fK6xLCIgLvSjgEwxLDZY1D8qrKxQag\n",
              "R2T+j2v0h1CVAAAAkUGb7EnhDyZTAh3//qmWAADPjtGL9RoANYc9TUltbSXTI2Vi5sgAbYD/Pd11\n",
              "SlbvW8URQWq/Eia7aFE6/vYcx9jmufornsFuAso2o0HkP1yfq9325NRmiywO4Gay3VxYx6sWA2cf\n",
              "f2zlAG8hmso0ZkgeekQ5RzV3HIpkfgkQ5SlF5Cj8f5raMo7w7Rupjv2ZquAAAACQQZoOSeEPJlMF\n",
              "ETw7//6plgABnx3kQiyjQA4T01yGWi2/xInfpB/tkie1pIrSRbjtBaM/hCgtXr1wx2kBqvvbS/XD\n",
              "/nTHSjxzf0Z/9oD15eVy57bFd32mUQe443jlkY6f/E+2kyaTd5Xyk3E0GMwTsful3mjfBLigMvtC\n",
              "f9E89qMbJchuVDQr+fbCs0AG+TypAAAAIwGeLWpCvwAWezI698S9rYLgBr/C2fdq+zZ50Qu4klts\n",
              "d0wnAAAAp0GaMknhDyZTAh3//qmWAANBs/5xHOtSeQaqkPILvP/cO5L5wl0OMn/zn9/XTDE6XmqX\n",
              "BpPz27vfksmRh4lLHteXl3zJJ3IjfDAarsagLHeSp6acnW140JiniF3zEbO1hfCprHBdmDSKrk0x\n",
              "onsjwmwH1YNY7gZJQFpH98mf76EY8+OjjMJ3XOqnZYj8Wg4j3EPs3mJzIp+yHuCpJ2x3G47iy02l\n",
              "K2jxAAAAPEGeUEURPC//ABAoaulpuzvTzoANqNqMI8UhvVU+g+RS7sffmRbDVeQghedoKhP/jFCP\n",
              "GGGQdHMQsSgRwAAAACQBnm90Qr8AArOQlMJHeSvlcnyq4zwPI+XkfNZE/RQRY/6OTKQAAAAxAZ5x\n",
              "akK/AAVCwDOZ2cCZVABDt7JXjoXY1AuL8R5cQiEeNcvIYndTOd3neVnee8L5cQAAAHxBmnZJqEFo\n",
              "mUwId//+qZYAA1IQQ1IFlhVRBAB/Pdxea4pnTBhRFQv2Z2mMEOCusgjmxRmUnjHViLM/CTmpc15V\n",
              "GvAB6FbTXrN0c9KNQeLIZ69Mql9Cjf4UVDntrgqybyeIDJ0qTW1dYRyHbYaj6TqlGlBUjLmVzSH0\n",
              "V7+aAAAANkGelEURLC//ABBfOZ/DDuyiDKZw80e7XGYSSTQAbS6cYBMitAjFB/zfoZD70FY4C8eQ\n",
              "yHgmnwAAAB0BnrN0Qr8ABWJCT0JdAkJDDV66dRoS4a8jbQ51+QAAABoBnrVqQr8ABWVbFV836rsa\n",
              "K1EaRhag8SUTNwAAAGpBmrpJqEFsmUwId//+qZYAA1D/dShzABtVoBNNS/G2R+DsKmmOdixT8jzO\n",
              "q99Hkj2wA3KCdCGkJecJvPbon8AWYY8gVXznEJC4lQzVZ865VqvGtf5amDe4fgZcFQbU9Piv1mlA\n",
              "EGnxRjjhAAAAIEGe2EUVLC//ABBfOZ/GN9LEQ6m9i0Ci7pIXVqv3jJsDAAAAGwGe93RCvwAFZROY\n",
              "UsAA6TjWkcisxxeb7yLZqQAAABIBnvlqQr8ABWeBm5pxHjJd4sEAAABRQZr+SahBbJlMCG///qeE\n",
              "AAaV2bsizgBLJk8uuUX5gOJ6HuHh7Jw3rAlP1OYjFicYMMFjg6/jIlA8da/vIeSIEJuofTjVDQWu\n",
              "YsFjcka0to2AAAAAKUGfHEUVLC//ABBfOZ/GR1U2wwtOSi7bOVnuqEAITZuw+QAu8dHERYYPAAAA\n",
              "FgGfO3RCvwAFZKnWkk09Ql1H+RnAScEAAAAVAZ89akK/AAVlXomCvaQcifITbEDAAAAAfkGbIUmo\n",
              "QWyZTAhv//6nhAAGl1UxikCUoegAbiLV45sPinARR+sJbpIB9x2RuOGC6p3vOtUEIwUl1oSej/aB\n",
              "STni0cB+44IZ1aHqZl6xvgVRXwfrl/Qf4RP1oLzVoDS7ymTXFghedfth9BWAOaQtlTp3lk1tyXD4\n",
              "6AEo5bqq2gAAACVBn19FFSwr/wAWvkz2ua+vqbSwFmHSlmtsnUIoAA7Ulm0DqqKVAAAAIwGfYGpC\n",
              "vwAFZpsyLZDVfGytF6Y+Xh64oAJsYJdVNA7bk7OAAAAAaUGbY0moQWyZTBRMN//+p4QABpgDXrRq\n",
              "u+5sQu6K/d6L+TrhrJIyrnj8WKPgU3q9roXsAOLsP0a83AzF43J4W+rlvE5OCJ5/Hy7FNVWzFKoa\n",
              "gCaQRDLo6QBp4aE7TPN3q8LSHQLYu5X80QAAACsBn4JqQr8AFr5M9r+LITrn+R+o/fzUvu9L3E6R\n",
              "6AEw9FhQTr75JsOsOuPgAAAAfEGbhUnhClJlMFLDf/6nhAADSmvnpNKqPL/4AEyBRqH2rvk32hQO\n",
              "qO7UttQJIA1OGXoPa/tzBu1DuO1fDjJa2X3Y+A+ObIvsS8aFC15J5vcPVZIIU5cH8n8p7oVeud71\n",
              "v2D9hy8pQuqWyyKUh5WRWuzVJP58ruqrtgX1nbUAAAAmAZ+kakK/ABZ7MjsUfpeJQgxlqaQ9xNiy\n",
              "ZbyYplyhdu51yiDI508AAABoQZunSeEOiZTBRMN//qeEAAM7wVu5Xe1debFBpFTgYXXqqFAaAFtF\n",
              "rE01Oxy0w0GT/79NedQ/PU+xMhcSWsn1sJGhbJEER46biC0XnWDlFG+Q3bMlufpPnMav92eA4kyP\n",
              "Dd5tRh8qybkAAAAkAZ/GakK/ABZ7Mjrn3ACRFqlXwUDbLbfjsi3pYDv7ZnElOoJxAAAAlkGbyUnh\n",
              "DyZTBTwz//6eEAAGSQ9Ewi33vSACia+tmkpLJZHaIn4ItTG8Yd9sLoYQzrLjNzXbfSzveifUmaO3\n",
              "M778tRKpz5Xz80RDpUAsWme4wjB9XhSjtidB8u3NGGiFKCratkYm1wBUfkskXL9BDA+JotLfEH9Y\n",
              "SqbTdKlojMi2pbZ0gXbrD4C4pLq7G671kEbNIPNVwAAAACwBn+hqQr8AFnsyOJSc0ZiRRf/CubP3\n",
              "MBvARcTmGpCpRlgBEDofTCShzg4TGAAAAHVBm+pJ4Q8mUwIZ//6eEAAGJ4TpIsPqEkIcsBF8ACKO\n",
              "thL98S9JO+TmhDnCRJC16Z99YGdUASZf0Ioq/eycKPRDzAVCHBRg5XM7S1zZXkxr9Tt0l34a63ug\n",
              "yRxoaJsRrdc6k9/T/y0cdWQONwD97SGZX28rLGEAAACCQZoLSeEPJlMCG//+p4QAAMkPQNk0m9ge\n",
              "qQAt0/4rSbLB+CHbCOc2S5ZUungBHTvsCFNSv/6DpyiRdx88au4qveXNB2DTWNsO8sjb4+W4EMBE\n",
              "+htMmolNcFbiXCz369t9mii5oMhXFUUutJwhvVZGNTAmKHCZQyFl6BxFHqrXmc8IWwAAALtBmi1J\n",
              "4Q8mUwURPDf//qeEAADE8J5o85cZmrEpKgAPm0r25O2aOPOtRjGA1i1VhRuWFqaAkcqE0NoiTWf5\n",
              "ijkcjAf/jxyvRpEds2l6lM6vbB64R0ij8X4MKdg4k7QEpere7bbladVtHYewPQNoTsxHqfO5rF6j\n",
              "9A0Lr7f00xkUkiRXhfoivK+B9jgSiSmFvz06zco0VW5gMCJqnske5sq3osKHGwuNVop2j+cx5G9A\n",
              "4hNVHvKRxzuNw39IAAAAOwGeTGpCvwAWezI3Xa/PjUW5tOXLkNEzoaHWQ5uADteiSbi5gcSrSrmb\n",
              "YqFLcxhsqpJV+7Fj9I3TkzPvAAAAtEGaT0nhDyZTBTw3//6nhAAAYgeehFo+J3SY+jt4eZe10ZWA\n",
              "DkJ1OUxpsYpnBy0DoMRkYZcbe9OCH9KoZz+7It9oYp8jZlMmAEW4Gc6dg7nex3B6Vv37rgjun6vO\n",
              "1IIT6Y3d/9xBAwCTEjBOmz8Y1dz8724jU5cc1j8cKeC9pEj7dD2+f4BJE94CMWZu0vEyPfrtNLdq\n",
              "dPTDSVJEn/4QH0Cw4gpEFoH1WX0rGLtAYUF9tro5wQAAAFUBnm5qQr8AFnsyNs7XQNGbFoXyGsfJ\n",
              "wcvUIbEU8xzuityriYALwyws/KpLxsX3LcjSuLdVmFSDiaqhF7h38v7Fk4QREgNxXWtvanh69oZX\n",
              "Jl3CD2u3AAAAhEGacUnhDyZTBTwz//6eEAABbPd/B9X2PddElL4kAwAdT7U0YSYMVQhxcuY3lrqJ\n",
              "ww84Ys67UDaI9i22LAXhovnXAGmiNewSyD9/4ae34YhQtp5RZkauYcfr1PIZ50wlCom0b95J+ZzW\n",
              "++AWiwL7nSeyT0VA/fDWas5TB+BblvIx58wruAAAAEUBnpBqQr8AFnsyNoVrVzQytJNx+oPggA0Z\n",
              "g4nBn5eUUmj+NXIESxJ52WS7lbVWCxzzn2vWI6z0XOPEdIieHDuulrWx0KwAAAB9QZqSSeEPJlMC\n",
              "G//+p4QAAC68y7DFo8/eQUAC4T9BsydLew2TqKGHRD6GmtO/vVkp/NTOt2yHcwNvkjDHMs3Qsrjq\n",
              "U+xoVRiGkkSktHiQjst2mnQalDcDRdE7PZqtRSlAwbZBOeXVOtUR5JENyTv+xukE55FlgRtTbxW5\n",
              "b0kAAACpQZq0SeEPJlMFETw3//6nhAAAWHbkgGN7zOT8iweVxpTKS/s6NOGiyJYdHz43szmHKbxr\n",
              "3IC0a6kncXkx6mfHA31j3XpsqVqJqp54sTYcR2oEmLC9GB5Q/bls/tkhzH8Ih/Chk5JSNzOp0gH3\n",
              "gmP4mzU94NSvP8rnz5GMVf11siaRrXpQ516O+wJanQu5cgJkE6ndlpjjCUXK9GRx5mBYFnP7fS+t\n",
              "effSjAAAAEwBntNqQr8AFnsyNziWXp5bL0toCzClO004B1lcBjhym0n1f2VC2QJMButgA5lBSS4i\n",
              "NB16l87k4hkr83J7ogBe5nOkzwzKoxHgs8WpAAAAqkGa1knhDyZTBTwz//6eEAACjZVrgVFdqzHp\n",
              "dGbN4WK97dGao9N5mPh4QWXKgfdilkJpnnEnZE0rwY2RaN0Nt1C/JnEn8J3ZtNxNoUNupr1vUuST\n",
              "jMkCYdWmLIGW39wg6XAEmv2yU/ipLDLvLWvW1uAou3rLS4yR49TyqCecrFFha1FqzdBIFkbob2jC\n",
              "f7KsdjNa0bWMkyIlGXzhBj2S12wKtvcme4hqmUclAAAAPQGe9WpCvwAWezI3M0JVOe/2it8aQsVO\n",
              "/fHBUPayOxk2NI2uqy/oa4YK8LLAADr4ih6dtW0JtmzhbX7Vy4AAAAC2QZr4SeEPJlMFPDP//p4Q\n",
              "AAUbF6AAcbyJTdpY/9fidEFi/qmXLBpaFLP2Y5ceugl66MdrhsqwClyExZL6NWT3fLbfBOf/BmnK\n",
              "XMU34IZUy8hAJmdxpIxbEUv0IDfVp7/VvMRu/+s1iKQIzNIuHGVbab8OJjNa9A3tW9Wc1GnQsPud\n",
              "0C/3N3b91XIpa8T7/Cc0XkhNoTMLFaZpOtDbYCsxVwyfZ3+mzf9UaNFE3YA2JVAUwjDH8P8AAABC\n",
              "AZ8XakK/ABZ7Mjgmgm+0A2xj7+25mPfwUkRygzDwyytMqMhGgAdSDcO8JVF0C25ottxj5HUk1YYJ\n",
              "GffnPt8vbdRdAAAAhEGbGUnhDyZTAhn//p4QAAUa0jWXVcgkkQRMA8rogACH/M2feBgfNn9yczAC\n",
              "YSFvq+A2YQrhXJFeoB64hz/YPtPRWv3yetlEb2OCoaXCbEM+Af98UuTmPE6fTM3ArxADPF9pNms/\n",
              "ihopAC5LgAr5vEamO2qHjcbL/1mfeqfnO/llPfGYEAAAAHhBmzpJ4Q8mUwIZ//6eEAAJ7Xd4GZxS\n",
              "AEy5JxxpGZCpc++r4Y7LFhYeXFnHvAIAh5Ken34Tx4tjvlQOpt1zDc/0FvXjTWoPwoR2ebT8oF8Y\n",
              "qd9RBBeJY+imihSoiVaH9qCUhTwshl5FXBf+hkVEKkmu6P43fND+x6cAAACCQZtbSeEPJlMCGf/+\n",
              "nhAAE1UpizVChKABOz+RBN19mtGtMuaktQ/eRzUe9KNLJst8F+ygGfH79hYnTA0Y/3IfMzY/LA7w\n",
              "cXViJnyaZuAF2Bx1AkGVOrs/v5wwOoYdvNKbH4g9T+kkIaj+whtS+TaOV/rfxRRRVl07kyAUnVLm\n",
              "48QbywAAAFdBm3xJ4Q8mUwIb//6nhAAE+U9Yw1P7Yh+3hcqFwAcZVfvsp+rdKr/hOCKZFkIYMLIa\n",
              "a/J2CeHgpTAE7MkgcyeNvBsbVL/fWFCXyepJYn9iswmATV7GGk8AAACBQZueSeEPJlMFETwz//6e\n",
              "EABLRDjadKWQAVtcwv/cxwyRivBlUUF33kqabpbS3mCBiZ20qQYoqi2fHTKOmfpCTuGZbBJbzP8V\n",
              "mPbRFBAJPlEVbYGBDA9stJjTHn3qHgGEjR2EJLt7Pll52OEYZrK2H9ASSKdKcwGpjR3IqCfca4tr\n",
              "AAAAKgGfvWpCvwAWezJu4UsKQAXdS9NF2UUAEPyGn9tpQoZ/P1iGh31PL5uwYAAAAHNBm79J4Q8m\n",
              "UwIb//6nhAATUkb5wBW+ArO7C0fidszkugahTX7d+/c6mgQ6HIwpchmBGMmV5uJPry/yR1VLJi68\n",
              "MgIxxnkcWOsJbZYbXNuD9h6wqgctiTuQ1Kx1Um+HzYzHRzN68kdCP/23E8xXQ/jzDE3AAAAAf0Gb\n",
              "wUnhDyZTBRE8M//+nhAAkohr3tfbIAEy47HtG2exVjC6blTxPcCi+eJC/Jd95/jHOwv8qud7A187\n",
              "/3iyBXDFBerAI4UwKAtac+a/vsqs4axVn0CGG4ZBIzc9coLrycotQWo41uRaiwiFhJVDHSU00mRl\n",
              "jT1UzvID71tQz4EAAAA3AZ/gakK/ADtsqYyXvkedLmfWXLnHWthrDvCVzhLw6ymadoALbP0VOxKK\n",
              "5r4ClaWsZNNyObqgwAAAAHxBm+JJ4Q8mUwIb//6nhABJR6mWmiQrdG2gAcVo8LC9m7yq4Adkl9h7\n",
              "4oPrauZ+W0ByfP/JrlRUSna9xvVcDxdCtpSl2iuEubS3o4PMKL14oDX+qNJkP3SfflXHTL149dEy\n",
              "ahelQxK9SqKKq9rrc4VL1LHe5spabZKVrUGpAAAAnEGaBEnhDyZTBRE8N//+p4QASUfEbjNwkAH8\n",
              "xnailgffwSbO/n4AX8qw6ORVhe2wqmI1jVMLdbAQwiRVfjdD38dJvyiLNFzHNz8linaVFP8TdLk4\n",
              "j5puAMQz//7MZOrcy6DZBhe8acXRcw6awIBTNtWIHVCASsFfhgS6c4ixirY6maRMcOO4tsGzXPtY\n",
              "cYHAU51XHTY79EynLeUGpAAAADwBniNqQr8AO1SIisI7AMRrkNVJwcgAOxcq7T6xR1yIAPnMgj90\n",
              "5/VHCPeLVauGKX92i+LMJB6UCyYx6CEAAACbQZomSeEPJlMFPDP//p4QAipEuQMn14LR4YCVl7Ax\n",
              "wnCkZ/6o2Kke/rh7X4rx9sV9Bpow77Hjx5GbZsx+79Yv2OeGUj5OTqGJtLe09QOzGe0Adhp6+xAL\n",
              "7rBgzLU3ujpx3rQlPBXhkDwbm9MSFyrnOERcP3oSnsByT/l9/T28EaqUtl2s7W5tIMLpuCbR/jIL\n",
              "mrWbO/ZhzH2IIOEAAABAAZ5FakK/AHQZI1zwxKaABOXqsTCSgAGzopmr0tLHOWdnPmLpPU4bCmDw\n",
              "vsO8YsIrlgygeFqlPe4D9ixS+O58wQAAAJ1BmkhJ4Q8mUwU8M//+nhACLfFZoz/I3ZgAhGfQDKdl\n",
              "fWJt/QMebRXmKcyCtWtdXrHc7Day004l9sjVPcNZkF7WwhpslrRhtez2ZMiZ4us+d72usIlKwN36\n",
              "ZcKALykbz4tJhNvHX9/wrBbrBh/UuWojhG4PLW+bFCZOsWh689Rqpl02u/mKdm+evczTZuDNgIvE\n",
              "EtQKly/c1n+7m0ELAAAAWQGeZ2pCvwB0AAk2SMwGkIIdWJWMgd5oAOb7keLrZX/UD6iY6AIDR6Wz\n",
              "h9vFMAlw39LbM2WH5CtE6MyNalQTmOJov9wRWyw49G7iIOHAXgKTT5V0XDwjJjoIAAAAf0Gaaknh\n",
              "DyZTBTwr//44QAg3wPkcYrc7kIgAdXoLx/VSLMNcHPl/EOvVVUUtKyZJvEN7c0liNgAzIO00C6gk\n",
              "TiRdngja3Gw2WzDDmXUneo2offlLvFiTzZImaNRPN3xy6+jzqcmAKRrz7uOAx3i8S3//0zmVHn7D\n",
              "v1x215DeCvgAAABdAZ6JakK/AHE/ayeCLvqj/QkoC9Y8gAxftlnAixeMnrWz8nD4y7Y5G9+f2OOM\n",
              "l0ZFxUaywvvbco9UvBW//D+KFqDdAVEzSY174v0o3I1TsKwmKxk1NCeT7K20tZZdAAAJKm1vb3YA\n",
              "AABsbXZoZAAAAAAAAAAAAAAAAAAAA+gAABW4AAEAAAEAAAAAAAAAAAAAAAABAAAAAAAAAAAAAAAA\n",
              "AAAAAQAAAAAAAAAAAAAAAAAAQAAAAAAAAAAAAAAAAAAAAAAAAAAAAAAAAAAAAAAAAAIAAAhUdHJh\n",
              "awAAAFx0a2hkAAAAAwAAAAAAAAAAAAAAAQAAAAAAABW4AAAAAAAAAAAAAAAAAAAAAAABAAAAAAAA\n",
              "AAAAAAAAAAAAAQAAAAAAAAAAAAAAAAAAQAAAAAGwAAABIAAAAAAAJGVkdHMAAAAcZWxzdAAAAAAA\n",
              "AAABAAAVuAAABAAAAQAAAAAHzG1kaWEAAAAgbWRoZAAAAAAAAAAAAAAAAAAAMgAAARYAVcQAAAAA\n",
              "AC1oZGxyAAAAAAAAAAB2aWRlAAAAAAAAAAAAAAAAVmlkZW9IYW5kbGVyAAAAB3dtaW5mAAAAFHZt\n",
              "aGQAAAABAAAAAAAAAAAAAAAkZGluZgAAABxkcmVmAAAAAAAAAAEAAAAMdXJsIAAAAAEAAAc3c3Ri\n",
              "bAAAALNzdHNkAAAAAAAAAAEAAACjYXZjMQAAAAAAAAABAAAAAAAAAAAAAAAAAAAAAAGwASAASAAA\n",
              "AEgAAAAAAAAAAQAAAAAAAAAAAAAAAAAAAAAAAAAAAAAAAAAAAAAAAAAAABj//wAAADFhdmNDAWQA\n",
              "Ff/hABhnZAAVrNlBsJaEAAADAAQAAAMAyDxYtlgBAAZo6+PLIsAAAAAcdXVpZGtoQPJfJE/Fujml\n",
              "G88DI/MAAAAAAAAAGHN0dHMAAAAAAAAAAQAAAIsAAAIAAAAAFHN0c3MAAAAAAAAAAQAAAAEAAAPg\n",
              "Y3R0cwAAAAAAAAB6AAAAAQAABAAAAAABAAAKAAAAAAEAAAQAAAAAAQAAAAAAAAABAAACAAAAAAEA\n",
              "AAoAAAAAAQAABAAAAAABAAAAAAAAAAEAAAIAAAAAAQAACAAAAAACAAACAAAAAAEAAAYAAAAAAQAA\n",
              "AgAAAAABAAAEAAAAAAEAAAoAAAAAAQAABAAAAAABAAAAAAAAAAEAAAIAAAAAAQAACAAAAAACAAAC\n",
              "AAAAAAEAAAgAAAAAAgAAAgAAAAABAAAIAAAAAAIAAAIAAAAAAQAACgAAAAABAAAEAAAAAAEAAAAA\n",
              "AAAAAQAAAgAAAAACAAAEAAAAAAEAAAYAAAAAAQAAAgAAAAABAAAKAAAAAAEAAAQAAAAAAQAAAAAA\n",
              "AAABAAACAAAAAAEAAAQAAAAAAQAACgAAAAABAAAEAAAAAAEAAAAAAAAAAQAAAgAAAAABAAAKAAAA\n",
              "AAEAAAQAAAAAAQAAAAAAAAABAAACAAAAAAEAAAgAAAAAAgAAAgAAAAABAAAGAAAAAAEAAAIAAAAA\n",
              "AQAABgAAAAABAAACAAAAAAEAAAgAAAAAAgAAAgAAAAABAAAEAAAAAAEAAAgAAAAAAgAAAgAAAAAB\n",
              "AAAGAAAAAAEAAAIAAAAAAQAABgAAAAABAAACAAAAAAEAAAgAAAAAAgAAAgAAAAADAAAEAAAAAAEA\n",
              "AAYAAAAAAQAAAgAAAAACAAAEAAAAAAEAAAYAAAAAAQAAAgAAAAABAAAKAAAAAAEAAAQAAAAAAQAA\n",
              "AAAAAAABAAACAAAAAAEAAAoAAAAAAQAABAAAAAABAAAAAAAAAAEAAAIAAAAAAQAACgAAAAABAAAE\n",
              "AAAAAAEAAAAAAAAAAQAAAgAAAAABAAAKAAAAAAEAAAQAAAAAAQAAAAAAAAABAAACAAAAAAEAAAgA\n",
              "AAAAAgAAAgAAAAABAAAGAAAAAAEAAAIAAAAAAQAABgAAAAABAAACAAAAAAEAAAYAAAAAAQAAAgAA\n",
              "AAABAAAGAAAAAAEAAAIAAAAAAgAABAAAAAABAAAGAAAAAAEAAAIAAAAAAQAABgAAAAABAAACAAAA\n",
              "AAEAAAYAAAAAAQAAAgAAAAABAAAEAAAAAAEAAAYAAAAAAQAAAgAAAAABAAAGAAAAAAEAAAIAAAAA\n",
              "AQAABgAAAAABAAACAAAAAAQAAAQAAAAAAQAABgAAAAABAAACAAAAAAEAAAQAAAAAAQAABgAAAAAB\n",
              "AAACAAAAAAEAAAQAAAAAAQAABgAAAAABAAACAAAAAAEAAAYAAAAAAQAAAgAAAAABAAAGAAAAAAEA\n",
              "AAIAAAAAAQAABgAAAAABAAACAAAAABxzdHNjAAAAAAAAAAEAAAABAAAAiwAAAAEAAAJAc3RzegAA\n",
              "AAAAAAAAAAAAiwAACu0AAAB9AAAAKwAAAA8AAAASAAAAhAAAAEIAAAAbAAAAIwAAAIEAAABGAAAA\n",
              "KAAAAHwAAAAsAAAAgQAAANQAAABFAAAALgAAADcAAACsAAAAOAAAADIAAACbAAAAOgAAAC0AAAB4\n",
              "AAAAIgAAABsAAACOAAAAMgAAACQAAAAlAAAAegAAAHwAAACFAAAAFgAAAGAAAAAkAAAAFAAAABEA\n",
              "AABLAAAAigAAADAAAAAXAAAAHQAAAJQAAAAzAAAAIwAAAB0AAABoAAAANAAAABsAAAB1AAAAMwAA\n",
              "AJ0AAAAmAAAAsQAAAEoAAAAnAAAAdAAAAMIAAABOAAAAPwAAAL0AAABCAAAAvgAAAFIAAADkAAAA\n",
              "YgAAADwAAACUAAAAhgAAALcAAADKAAAAQAAAAIcAAACVAAAAlAAAACcAAACrAAAAQAAAACgAAAA1\n",
              "AAAAgAAAADoAAAAhAAAAHgAAAG4AAAAkAAAAHwAAABYAAABVAAAALQAAABoAAAAZAAAAggAAACkA\n",
              "AAAnAAAAbQAAAC8AAACAAAAAKgAAAGwAAAAoAAAAmgAAADAAAAB5AAAAhgAAAL8AAAA/AAAAuAAA\n",
              "AFkAAACIAAAASQAAAIEAAACtAAAAUAAAAK4AAABBAAAAugAAAEYAAACIAAAAfAAAAIYAAABbAAAA\n",
              "hQAAAC4AAAB3AAAAgwAAADsAAACAAAAAoAAAAEAAAACfAAAARAAAAKEAAABdAAAAgwAAAGEAAAAU\n",
              "c3RjbwAAAAAAAAABAAAALAAAAGJ1ZHRhAAAAWm1ldGEAAAAAAAAAIWhkbHIAAAAAAAAAAG1kaXJh\n",
              "cHBsAAAAAAAAAAAAAAAALWlsc3QAAAAlqXRvbwAAAB1kYXRhAAAAAQAAAABMYXZmNTcuODMuMTAw\n",
              "\">\n",
              "  Your browser does not support the video tag.\n",
              "</video>"
            ]
          },
          "metadata": {},
          "execution_count": 28
        }
      ],
      "source": [
        "anim = plot_animation(frames)\n",
        "\n",
        "from IPython.display import HTML\n",
        "HTML(anim.to_html5_video())"
      ]
    },
    {
      "cell_type": "code",
      "execution_count": 28,
      "metadata": {
        "id": "iMXp_pRmPRGE"
      },
      "outputs": [],
      "source": [
        ""
      ]
    }
  ],
  "metadata": {
    "colab": {
      "collapsed_sections": [],
      "name": "001-gym-environment.ipynb",
      "provenance": []
    },
    "kernelspec": {
      "display_name": "Python 3 (ipykernel)",
      "language": "python",
      "name": "python3"
    },
    "language_info": {
      "codemirror_mode": {
        "name": "ipython",
        "version": 3
      },
      "file_extension": ".py",
      "mimetype": "text/x-python",
      "name": "python",
      "nbconvert_exporter": "python",
      "pygments_lexer": "ipython3",
      "version": "3.8.5"
    },
    "accelerator": "GPU"
  },
  "nbformat": 4,
  "nbformat_minor": 0
}